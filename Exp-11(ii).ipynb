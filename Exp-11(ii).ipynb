{
 "cells": [
  {
   "cell_type": "code",
   "execution_count": 2,
   "metadata": {},
   "outputs": [
    {
     "name": "stdout",
     "output_type": "stream",
     "text": [
      "Reject the null hypothesis; there is a significant difference between the petal lengths of Iris setosa and Iris versicolor.\n"
     ]
    }
   ],
   "source": [
    "# Import the necessary libraries:\n",
    "import seaborn as sns\n",
    "import numpy as np\n",
    "from scipy import stats\n",
    "\n",
    "# Load the Iris dataset:\n",
    "iris = sns.load_dataset('iris')\n",
    "\n",
    "# Filter the dataset for the two species we want to compare:\n",
    "setosa = iris[iris['species'] == 'setosa']\n",
    "versicolor = iris[iris['species'] == 'versicolor']\n",
    "\n",
    "# Extract the petal lengths for each species:\n",
    "setosa_petal_lengths = setosa['petal_length']\n",
    "versicolor_petal_lengths = versicolor['petal_length']\n",
    "\n",
    "# Perform the t-test:\n",
    "t_stat, p_value = stats.ttest_ind(setosa_petal_lengths, versicolor_petal_lengths)\n",
    "\n",
    "# Interpret the results:\n",
    "alpha = 0.05\n",
    "if p_value < alpha:\n",
    "           print(\"Reject the null hypothesis; there is a significant difference between the petal lengths of Iris setosa and Iris versicolor.\")\n",
    "else:\n",
    "        print(\"Fail to reject the null hypothesis; there is no significant difference between the petal lengths of Iris setosa and Iris versicolor.\")\n"
   ]
  },
  {
   "cell_type": "code",
   "execution_count": null,
   "metadata": {},
   "outputs": [],
   "source": []
  }
 ],
 "metadata": {
  "kernelspec": {
   "display_name": "Python 3",
   "language": "python",
   "name": "python3"
  },
  "language_info": {
   "codemirror_mode": {
    "name": "ipython",
    "version": 3
   },
   "file_extension": ".py",
   "mimetype": "text/x-python",
   "name": "python",
   "nbconvert_exporter": "python",
   "pygments_lexer": "ipython3",
   "version": "3.10.9"
  }
 },
 "nbformat": 4,
 "nbformat_minor": 2
}
