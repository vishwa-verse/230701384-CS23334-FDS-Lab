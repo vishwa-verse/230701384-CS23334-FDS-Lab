{
 "cells": [
  {
   "cell_type": "code",
   "execution_count": 1,
   "metadata": {},
   "outputs": [
    {
     "name": "stdout",
     "output_type": "stream",
     "text": [
      "Null hypothesis is rejected. \n",
      "Alternate hypothesis is accepted!\n",
      "Z-test Score: 1.831744911595958 \n",
      "P-value: 0.03349471703839336\n",
      "Null hypothesis is rejected. \n",
      "Alternate hypothesis is accepted!\n"
     ]
    },
    {
     "data": {
      "text/plain": [
       "(1.8335757415498277, 0.06671699590108493)"
      ]
     },
     "execution_count": 1,
     "metadata": {},
     "output_type": "execute_result"
    }
   ],
   "source": [
    "import math \n",
    "import numpy as np\n",
    "from statsmodels.stats.weightstats import ztest\n",
    "from scipy.stats import norm\n",
    "\n",
    "sample_marks = [650,730,510,670,480,800,690,530,590,620,710,670,640,780,650,490,800,600,510,700]\n",
    "\n",
    "# Method 1 : Using Z-score\n",
    "\n",
    "sample_mean = np.mean(sample_marks)\n",
    "sample_size = np.count_nonzero(sample_marks)\n",
    "population_mean = 600\n",
    "population_std = 100\n",
    "alpha = 0.05\n",
    "z_score = (sample_mean-population_mean)/(population_std/math.sqrt(sample_size))\n",
    "critical_value = 1.645 # from z table\n",
    "if(z_score<critical_value):\n",
    "    print('Null hypothesis is accepted!')\n",
    "else:\n",
    "    print('Null hypothesis is rejected. \\nAlternate hypothesis is accepted!')\n",
    "    \n",
    "    \n",
    "# Method 2: Using built in function of ztest\n",
    "\n",
    "ztest_score, pval = ztest(sample_marks,value=population_mean,alternative='larger')\n",
    "print('Z-test Score:',ztest_score,'\\nP-value:',pval)\n",
    "if(pval>alpha):\n",
    "     print('Null hypothesis is accepted!')\n",
    "else:\n",
    "    print('Null hypothesis is rejected. \\nAlternate hypothesis is accepted!')   \n",
    " \n",
    " \n",
    "# Method 3: Creating a function \n",
    "\n",
    "def ztest(x,mu,sigma,n):\n",
    "    deno = sigma/math.sqrt(n)\n",
    "    z = (x-mu)/deno\n",
    "    p = 2*(1-norm.cdf(abs(z)))\n",
    "    return z,p\n",
    "  \n",
    "s_mean = np.mean(sample_marks)\n",
    "p_mean = 600\n",
    "p_std = 100\n",
    "s_size = np.count_nonzero(sample_marks)\n",
    "\n",
    "ztest(s_mean,p_mean,p_std,s_size)\n",
    "\n",
    "ztest(641,600,100,20)\n"
   ]
  },
  {
   "cell_type": "code",
   "execution_count": null,
   "metadata": {},
   "outputs": [],
   "source": []
  }
 ],
 "metadata": {
  "kernelspec": {
   "display_name": "Python 3",
   "language": "python",
   "name": "python3"
  },
  "language_info": {
   "codemirror_mode": {
    "name": "ipython",
    "version": 3
   },
   "file_extension": ".py",
   "mimetype": "text/x-python",
   "name": "python",
   "nbconvert_exporter": "python",
   "pygments_lexer": "ipython3",
   "version": "3.10.9"
  }
 },
 "nbformat": 4,
 "nbformat_minor": 2
}
