{
 "cells": [
  {
   "cell_type": "code",
   "execution_count": 3,
   "id": "ac1c9893",
   "metadata": {},
   "outputs": [],
   "source": [
    "import string\n",
    "import nltk\n",
    "import numpy as np\n",
    "import pandas as pd\n",
    "from sklearn.feature_extraction.text import CountVectorizer, TfidfTransformer\n",
    "from sklearn.naive_bayes import MultinomialNB"
   ]
  },
  {
   "cell_type": "code",
   "execution_count": 5,
   "id": "b074086c",
   "metadata": {},
   "outputs": [
    {
     "name": "stderr",
     "output_type": "stream",
     "text": [
      "[nltk_data] Downloading package stopwords to\n",
      "[nltk_data]     C:\\Users\\Asus\\AppData\\Roaming\\nltk_data...\n",
      "[nltk_data]   Package stopwords is already up-to-date!\n"
     ]
    },
    {
     "data": {
      "text/plain": [
       "True"
      ]
     },
     "execution_count": 5,
     "metadata": {},
     "output_type": "execute_result"
    }
   ],
   "source": [
    "# Download necessary NLTK data\n",
    "nltk.download('stopwords')\n",
    "\n"
   ]
  },
  {
   "cell_type": "code",
   "execution_count": 6,
   "id": "514f34f6",
   "metadata": {},
   "outputs": [],
   "source": [
    "# Define text preprocessing function\n",
    "def textPreprocessing(data):\n",
    "    if not isinstance(data, str):\n",
    "        return \"\"\n",
    "    remove_pun = [c for c in data if c not in string.punctuation]\n",
    "    sentences = ''.join(remove_pun)\n",
    "    words = sentences.split()\n",
    "    return ' '.join(words)"
   ]
  },
  {
   "cell_type": "code",
   "execution_count": 9,
   "id": "a209b468",
   "metadata": {},
   "outputs": [],
   "source": [
    "# Load dataset\n",
    "file_path = r\"spam.csv\" # Use raw string to handle backslashes in the file path\n",
    "df = pd.read_csv(file_path, sep='\\t', names=['label', 'message'], encoding='latin1')\n",
    "df['message'] = df['message'].astype(str)"
   ]
  },
  {
   "cell_type": "code",
   "execution_count": 10,
   "id": "27155280",
   "metadata": {},
   "outputs": [
    {
     "name": "stdout",
     "output_type": "stream",
     "text": [
      "{'n': 1, 'a': 0}\n",
      "  (0, 0)\t1\n",
      "  (0, 1)\t2\n",
      "  (1, 0)\t1\n",
      "  (1, 1)\t2\n",
      "  (2, 0)\t1\n",
      "  (2, 1)\t2\n",
      "  (3, 0)\t1\n",
      "  (3, 1)\t2\n",
      "  (4, 0)\t1\n",
      "  (4, 1)\t2\n",
      "  (5, 0)\t1\n",
      "  (5, 1)\t2\n",
      "  (6, 0)\t1\n",
      "  (6, 1)\t2\n",
      "  (7, 0)\t1\n",
      "  (7, 1)\t2\n",
      "  (8, 0)\t1\n",
      "  (8, 1)\t2\n",
      "  (9, 0)\t1\n",
      "  (9, 1)\t2\n",
      "  (10, 0)\t1\n",
      "  (10, 1)\t2\n",
      "  (11, 0)\t1\n",
      "  (11, 1)\t2\n",
      "  (12, 0)\t1\n",
      "  :\t:\n",
      "  (5562, 1)\t2\n",
      "  (5563, 0)\t1\n",
      "  (5563, 1)\t2\n",
      "  (5564, 0)\t1\n",
      "  (5564, 1)\t2\n",
      "  (5565, 0)\t1\n",
      "  (5565, 1)\t2\n",
      "  (5566, 0)\t1\n",
      "  (5566, 1)\t2\n",
      "  (5567, 0)\t1\n",
      "  (5567, 1)\t2\n",
      "  (5568, 0)\t1\n",
      "  (5568, 1)\t2\n",
      "  (5569, 0)\t1\n",
      "  (5569, 1)\t2\n",
      "  (5570, 0)\t1\n",
      "  (5570, 1)\t2\n",
      "  (5571, 0)\t1\n",
      "  (5571, 1)\t2\n",
      "  (5572, 0)\t1\n",
      "  (5572, 1)\t2\n",
      "  (5573, 0)\t1\n",
      "  (5573, 1)\t2\n",
      "  (5574, 0)\t1\n",
      "  (5574, 1)\t2\n"
     ]
    }
   ],
   "source": [
    "wordVector = CountVectorizer(analyzer=textPreprocessing)\n",
    "finalWordVector = wordVector.fit(df['message'])\n",
    "print(finalWordVector.vocabulary_)\n",
    "bow = finalWordVector.transform(df['message'])\n",
    "\n",
    "print(bow)"
   ]
  },
  {
   "cell_type": "code",
   "execution_count": 11,
   "id": "fdbd0b0b",
   "metadata": {},
   "outputs": [],
   "source": [
    "# Transform to TF-IDF features\n",
    "tfidfObject = TfidfTransformer().fit(bow)\n",
    "final_feature = tfidfObject.transform(bow)"
   ]
  },
  {
   "cell_type": "code",
   "execution_count": 12,
   "id": "983ec68a",
   "metadata": {},
   "outputs": [
    {
     "data": {
      "text/plain": [
       "MultinomialNB()"
      ]
     },
     "execution_count": 12,
     "metadata": {},
     "output_type": "execute_result"
    }
   ],
   "source": [
    "# Train the Naive Bayes model\n",
    "model = MultinomialNB()\n",
    "model.fit(final_feature, df['label'])"
   ]
  },
  {
   "cell_type": "code",
   "execution_count": 13,
   "id": "9da62785",
   "metadata": {},
   "outputs": [
    {
     "name": "stdout",
     "output_type": "stream",
     "text": [
      "Model Accuracy:  0.0053811659192825115\n"
     ]
    }
   ],
   "source": [
    "# Evaluate the model\n",
    "score = model.score(final_feature, df['label'])\n",
    "print(\"Model Accuracy: \", score)"
   ]
  },
  {
   "cell_type": "code",
   "execution_count": 14,
   "id": "32be9160",
   "metadata": {},
   "outputs": [
    {
     "name": "stdout",
     "output_type": "stream",
     "text": [
      "Enter the SMS Content: random\n"
     ]
    }
   ],
   "source": [
    "# Input SMS for prediction\n",
    "inputSMS = input(\"Enter the SMS Content: \")\n",
    "preprocessText = textPreprocessing(inputSMS)"
   ]
  },
  {
   "cell_type": "code",
   "execution_count": 15,
   "id": "2b9d73dc",
   "metadata": {},
   "outputs": [],
   "source": [
    "# Transform the input SMS to feature vector\n",
    "vector = finalWordVector.transform([preprocessText])\n",
    "finalFeature = tfidfObject.transform(vector)"
   ]
  },
  {
   "cell_type": "code",
   "execution_count": 16,
   "id": "39e1fb47",
   "metadata": {},
   "outputs": [
    {
     "name": "stdout",
     "output_type": "stream",
     "text": [
      "Given SMS is ham,\"Sorry, I'll call later\",,,\n"
     ]
    }
   ],
   "source": [
    "# Predict and print the result\n",
    "pred = model.predict(finalFeature)[0]\n",
    "print(\"Given SMS is\", pred)"
   ]
  },
  {
   "cell_type": "code",
   "execution_count": null,
   "id": "fd577ef5",
   "metadata": {},
   "outputs": [],
   "source": []
  }
 ],
 "metadata": {
  "kernelspec": {
   "display_name": "Python 3 (ipykernel)",
   "language": "python",
   "name": "python3"
  },
  "language_info": {
   "codemirror_mode": {
    "name": "ipython",
    "version": 3
   },
   "file_extension": ".py",
   "mimetype": "text/x-python",
   "name": "python",
   "nbconvert_exporter": "python",
   "pygments_lexer": "ipython3",
   "version": "3.7.9"
  }
 },
 "nbformat": 4,
 "nbformat_minor": 5
}
