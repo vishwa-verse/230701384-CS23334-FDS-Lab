{
 "cells": [
  {
   "cell_type": "code",
   "execution_count": 1,
   "metadata": {},
   "outputs": [
    {
     "name": "stdout",
     "output_type": "stream",
     "text": [
      "Z-score: 0.5438117264622684 \n",
      "P-value: 0.293285519251652\n",
      "Null hypothesis is accepted!\n",
      "Null hypothesis is accepted!\n"
     ]
    }
   ],
   "source": [
    "import math \n",
    "import numpy as np\n",
    "from statsmodels.stats.weightstats import ztest\n",
    "\n",
    "sample_marks1 = [650,730,510,670,480,800,690,530,590,620,710,670,640,780,650,490,800,600,510,700]\n",
    "sample_marks2 = [630,720,462,631,440,783,673,519,543,579,677,649,632,768,615,463,781,563,488,650]\n",
    "\n",
    "sample_mean1 = np.mean(sample_marks1)\n",
    "sample_mean2 = np.mean(sample_marks2)\n",
    "sample_size1 = np.count_nonzero(sample_marks1)\n",
    "sample_size2 = np.count_nonzero(sample_marks2)\n",
    "population_mean_diff = 10\n",
    "population_std1 = 100\n",
    "population_std2 = 90\n",
    "alpha = 0.05\n",
    "\n",
    "# Method 1: Using built in function of ztest\n",
    "\n",
    "z,p = ztest(x1=sample_marks1,x2=sample_marks2,value=population_mean_diff,alternative='larger')\n",
    "print('Z-score:',z,'\\nP-value:',p)\n",
    "\n",
    "if(p>alpha):\n",
    "    print('Null hypothesis is accepted!')\n",
    "else:\n",
    "    print('Null hypothesis is rejected. \\nAlternate hypothesis is accepted!')    \n",
    "    \n",
    "# Method 2: Calculating Z-score  \n",
    "\n",
    "zscore = ((sample_mean1-sample_mean2)-(population_mean_diff))/(math.sqrt((population_std1**2/sample_size1)+(population_std2**2/sample_size2)))\n",
    "critical_value = 1.645 # from z table\n",
    "\n",
    "if(zscore<critical_value):\n",
    "    print('Null hypothesis is accepted!')\n",
    "else:\n",
    "    print('Null hypothesis is rejected. \\nAlternate hypothesis is accepted!')\n"
   ]
  },
  {
   "cell_type": "code",
   "execution_count": null,
   "metadata": {},
   "outputs": [],
   "source": []
  }
 ],
 "metadata": {
  "kernelspec": {
   "display_name": "Python 3",
   "language": "python",
   "name": "python3"
  },
  "language_info": {
   "codemirror_mode": {
    "name": "ipython",
    "version": 3
   },
   "file_extension": ".py",
   "mimetype": "text/x-python",
   "name": "python",
   "nbconvert_exporter": "python",
   "pygments_lexer": "ipython3",
   "version": "3.10.9"
  }
 },
 "nbformat": 4,
 "nbformat_minor": 2
}
