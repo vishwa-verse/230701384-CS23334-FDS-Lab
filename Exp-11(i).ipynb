{
 "cells": [
  {
   "cell_type": "code",
   "execution_count": 1,
   "metadata": {},
   "outputs": [
    {
     "name": "stdout",
     "output_type": "stream",
     "text": [
      "T statistic: 2.2894683580127317\n",
      "P-value: 0.047816221110566944\n",
      "Reject the null hypothesis; there is a significant difference between the sample mean and the hypothesized population mean.\n"
     ]
    }
   ],
   "source": [
    "# Import necessary libraries\n",
    "import numpy as np\n",
    "from scipy import stats\n",
    "\n",
    "# Given student scores\n",
    "student_scores = np.array([72, 89, 65, 73, 79, 84, 63, 76, 85, 75])\n",
    "\n",
    "\n",
    "# Hypothesized population mean\n",
    "mu = 70\n",
    "\n",
    "# Perform one-sample t-test\n",
    "t_stat, p_value = stats.ttest_1samp(student_scores, mu)\n",
    "print(\"T statistic:\", t_stat)\n",
    "print(\"P-value:\", p_value)\n",
    "\n",
    "# Setting significance level\n",
    "alpha = 0.05\n",
    "\n",
    "# Interpret the results\n",
    "if p_value < alpha:\n",
    "    print(\"Reject the null hypothesis; there is a significant difference between the sample mean and the hypothesized population mean.\")\n",
    "else:\n",
    "    print(\"Fail to reject the null hypothesis; there is no significant difference between the sample mean and the hypothesized population mean.\")\n"
   ]
  },
  {
   "cell_type": "code",
   "execution_count": null,
   "metadata": {},
   "outputs": [],
   "source": []
  }
 ],
 "metadata": {
  "kernelspec": {
   "display_name": "Python 3",
   "language": "python",
   "name": "python3"
  },
  "language_info": {
   "codemirror_mode": {
    "name": "ipython",
    "version": 3
   },
   "file_extension": ".py",
   "mimetype": "text/x-python",
   "name": "python",
   "nbconvert_exporter": "python",
   "pygments_lexer": "ipython3",
   "version": "3.10.9"
  }
 },
 "nbformat": 4,
 "nbformat_minor": 2
}
